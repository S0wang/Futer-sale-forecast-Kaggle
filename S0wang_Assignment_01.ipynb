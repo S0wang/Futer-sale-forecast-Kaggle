{
  "nbformat": 4,
  "nbformat_minor": 0,
  "metadata": {
    "colab": {
      "name": "S0wang Assignment-01.ipynb",
      "provenance": [],
      "collapsed_sections": [],
      "include_colab_link": true
    },
    "kernelspec": {
      "name": "python3",
      "display_name": "Python 3"
    }
  },
  "cells": [
    {
      "cell_type": "markdown",
      "metadata": {
        "id": "view-in-github",
        "colab_type": "text"
      },
      "source": [
        "<a href=\"https://colab.research.google.com/github/S0wang/Futer-sale-forecast-Kaggle/blob/main/S0wang_Assignment_01.ipynb\" target=\"_parent\"><img src=\"https://colab.research.google.com/assets/colab-badge.svg\" alt=\"Open In Colab\"/></a>"
      ]
    },
    {
      "cell_type": "markdown",
      "source": [
        "# Assignment 1 (due Feb 28th at 11:59pm)\n",
        "If you are not familiar with Python or the libraries used in this class, you can get started by following the [Python Numpy Tutorial](https://cs231n.github.io/python-numpy-tutorial/) from [CS231 @ Stanford](http://cs231n.stanford.edu)."
      ],
      "metadata": {
        "id": "n-uXkEHsUyO1"
      }
    },
    {
      "cell_type": "markdown",
      "source": [
        "## Question 1\n",
        "Generate the following matrix using any of the tensor libraries.  No loops allowed.\n",
        "```\n",
        "[[ 50  50  50  50  50]\n",
        " [-50  40  50  50  50]\n",
        " [-50 -50  30  50  50]\n",
        " [-50 -50 -50  20  50]\n",
        " [-50 -50 -50 -50  10]]\n",
        "```"
      ],
      "metadata": {
        "id": "GJLqXw_EU6ip"
      }
    },
    {
      "cell_type": "code",
      "source": [
        "import numpy as np\n",
        "\n",
        "matrix = np.zeros((5, 5), int) \n",
        "main = np.array([50,40,30,20,10])\n",
        "np.fill_diagonal(matrix, main)\n",
        "upper = np.repeat(np.array(50), [12])\n",
        "lower = np.repeat(np.array(-50), [12])\n",
        "np.fill_diagonal(matrix[:-1, 1:], upper)\n",
        "np.fill_diagonal(matrix[1:, :-1], lower)\n",
        "np.fill_diagonal(matrix[:-2, 2:], upper)\n",
        "np.fill_diagonal(matrix[2:, :-2], lower)\n",
        "np.fill_diagonal(matrix[:-3, 3:], upper)\n",
        "np.fill_diagonal(matrix[3:, :-3], lower)\n",
        "np.fill_diagonal(matrix[:-4, 4:], upper)\n",
        "np.fill_diagonal(matrix[4:, :-4], lower)\n",
        "matrix # your answer here"
      ],
      "metadata": {
        "id": "hLMBr3GvU9D6",
        "colab": {
          "base_uri": "https://localhost:8080/"
        },
        "outputId": "fdfb18ea-cca4-4010-eec2-af77fc1cf3b4"
      },
      "execution_count": 1,
      "outputs": [
        {
          "output_type": "execute_result",
          "data": {
            "text/plain": [
              "array([[ 50,  50,  50,  50,  50],\n",
              "       [-50,  40,  50,  50,  50],\n",
              "       [-50, -50,  30,  50,  50],\n",
              "       [-50, -50, -50,  20,  50],\n",
              "       [-50, -50, -50, -50,  10]])"
            ]
          },
          "metadata": {},
          "execution_count": 1
        }
      ]
    },
    {
      "cell_type": "markdown",
      "source": [
        "## Question 2\n",
        "Generate the following matrix using any of the tensor libraries.  No loops allowed.\n",
        "```\n",
        "[[ 0  1  2  3  4  5  6  7  8  9]\n",
        " [ 1  2  3  4  5  6  7  8  9 10]\n",
        " [ 2  3  4  5  6  7  8  9 10 11]\n",
        " [ 3  4  5  6  7  8  9 10 11 12]\n",
        " [ 4  5  6  7  8  9 10 11 12 13]\n",
        " [ 5  6  7  8  9 10 11 12 13 14]\n",
        " [ 6  7  8  9 10 11 12 13 14 15]\n",
        " [ 7  8  9 10 11 12 13 14 15 16]\n",
        " [ 8  9 10 11 12 13 14 15 16 17]\n",
        " [ 9 10 11 12 13 14 15 16 17 18]]\n",
        "```"
      ],
      "metadata": {
        "id": "HD1ynma5keSG"
      }
    },
    {
      "cell_type": "code",
      "source": [
        "import numpy as np\n",
        "a = np.arange(0,10) # your answer here\n",
        "b = np.arange(0,10)\n",
        "c = a.reshape(10,1)+b\n",
        "print(c)"
      ],
      "metadata": {
        "id": "VR3KYHSpkle7",
        "colab": {
          "base_uri": "https://localhost:8080/"
        },
        "outputId": "331d96d1-8139-47c5-fa6e-760e42cb26bc"
      },
      "execution_count": 2,
      "outputs": [
        {
          "output_type": "stream",
          "name": "stdout",
          "text": [
            "[[ 0  1  2  3  4  5  6  7  8  9]\n",
            " [ 1  2  3  4  5  6  7  8  9 10]\n",
            " [ 2  3  4  5  6  7  8  9 10 11]\n",
            " [ 3  4  5  6  7  8  9 10 11 12]\n",
            " [ 4  5  6  7  8  9 10 11 12 13]\n",
            " [ 5  6  7  8  9 10 11 12 13 14]\n",
            " [ 6  7  8  9 10 11 12 13 14 15]\n",
            " [ 7  8  9 10 11 12 13 14 15 16]\n",
            " [ 8  9 10 11 12 13 14 15 16 17]\n",
            " [ 9 10 11 12 13 14 15 16 17 18]]\n"
          ]
        }
      ]
    },
    {
      "cell_type": "markdown",
      "source": [
        "## Question 3\n",
        "Create a function that takes a single parameter `n` and returns a tensor of shape `(n,n,n)` and the following contents for an example value of `n=3`.  Do not use loops.\n",
        "```\n",
        "[[[ 0  0  0]\n",
        "  [ 0  0  0]\n",
        "  [ 0  0  0]]\n",
        "\n",
        " [[10 10 10]\n",
        "  [10 10 10]\n",
        "  [10 10 10]]\n",
        "\n",
        " [[20 20 20]\n",
        "  [20 20 20]\n",
        "  [20 20 20]]]\n",
        "```"
      ],
      "metadata": {
        "id": "1vFPYU-ZZD7q"
      }
    },
    {
      "cell_type": "code",
      "source": [
        "import numpy as np \n",
        "import torch   # your answer here\n",
        "\n",
        "def tensor_fun(n):\n",
        "  mat = torch.ones([n,n])\n",
        "  scalar = np.array([0,10,20])\n",
        "  output = np.tensordot(scalar,mat, axes=0).astype(\"int\")\n",
        "  return output\n",
        "\n",
        "output = tensor_fun(3)"
      ],
      "metadata": {
        "id": "Jb6mSzyqZe9T"
      },
      "execution_count": 3,
      "outputs": []
    },
    {
      "cell_type": "code",
      "source": [
        "print(output)"
      ],
      "metadata": {
        "colab": {
          "base_uri": "https://localhost:8080/"
        },
        "id": "9oWonGyM33Iz",
        "outputId": "8715e22d-3f1c-4020-f0ca-233cc914396f"
      },
      "execution_count": null,
      "outputs": [
        {
          "output_type": "stream",
          "name": "stdout",
          "text": [
            "[[[ 0  0  0]\n",
            "  [ 0  0  0]\n",
            "  [ 0  0  0]]\n",
            "\n",
            " [[10 10 10]\n",
            "  [10 10 10]\n",
            "  [10 10 10]]\n",
            "\n",
            " [[20 20 20]\n",
            "  [20 20 20]\n",
            "  [20 20 20]]]\n"
          ]
        }
      ]
    },
    {
      "cell_type": "markdown",
      "source": [
        "## Exercise 4\n",
        "Create a function that generates 2 square matrices of dimension `n x n` filled with random values from a unit gaussian distribution, computes their product, and measures the time it takes.  The function should return the output matrix and the time spent.  Use `time.perf_counter`."
      ],
      "metadata": {
        "id": "WCLQtfLPlynG"
      }
    },
    {
      "cell_type": "code",
      "source": [
        "import random\n",
        "from time import perf_counter  # your answer here\n",
        "def unit_gaussian_prod(n, dim, seeds):\n",
        "  time_start = perf_counter()\n",
        "  random.seed(seeds)\n",
        "  data = np.random.standard_normal(size=(dim,n,n))\n",
        "  mat1 = data[0,:,:]\n",
        "  mat2 = data[1,:,:]\n",
        "  #print(mat1)\n",
        "  #print(mat2)\n",
        "  prod = np.dot(mat1,mat1)\n",
        "  time_process = perf_counter() - time_start\n",
        "  return prod, time_process\n"
      ],
      "metadata": {
        "id": "W8JARpZDm5I4"
      },
      "execution_count": 4,
      "outputs": []
    },
    {
      "cell_type": "markdown",
      "source": [
        "## Exercise 5\n",
        "Test your function from Exercise 4 with the following values of `n`:\n",
        "```\n",
        "np.linspace(10, 2**12, 2**5, dtype=int)\n",
        "```\n",
        "Use the returned values to create a plot of how the time varies with respect to `n`."
      ],
      "metadata": {
        "id": "ejWkthfFm7eo"
      }
    },
    {
      "cell_type": "code",
      "source": [
        "import numpy as np\n",
        "\n",
        "n_list = np.linspace(10, 2**12, 2**5, dtype=int)\n",
        "print(n_list)\n",
        "time_mat = []\n",
        "for n in n_list:\n",
        "  t = unit_gaussian_prod(n,2,100)[1]\n",
        "  time_mat.append(t)\n",
        "  #print(n)\n",
        "  # your answer here"
      ],
      "metadata": {
        "id": "PDJ8HqYJnSwc",
        "colab": {
          "base_uri": "https://localhost:8080/"
        },
        "outputId": "bc21e5d5-1955-4359-a643-3c37322f9080"
      },
      "execution_count": 7,
      "outputs": [
        {
          "output_type": "stream",
          "name": "stdout",
          "text": [
            "[  10  141  273  405  537  669  800  932 1064 1196 1328 1459 1591 1723\n",
            " 1855 1987 2118 2250 2382 2514 2646 2777 2909 3041 3173 3305 3436 3568\n",
            " 3700 3832 3964 4096]\n"
          ]
        }
      ]
    },
    {
      "cell_type": "code",
      "source": [
        "import numpy as np\n",
        "import matplotlib.pyplot as plt\n",
        "LINEWIDTH=2\n",
        "ALPHA=.6\n",
        "\n",
        "plt.figure(figsize=(16,6))\n",
        "# Plot the sales of the year 2013\n",
        "plt.plot(n_list, time_mat, '-o', color='green', linewidth=LINEWIDTH, alpha=ALPHA)\n",
        "\n",
        "# Axes parameters\n",
        "ax = plt.gca()\n",
        "ax.set_title('Process Time vs Matrix Size')\n",
        "ax.set_ylabel('Process time')\n",
        "ax.set_xlabel('n: matrix size')\n",
        "ax.grid(axis='y', color='gray', alpha=.2)\n",
        "    \n",
        "# Remove the frame off the chart\n",
        "for spine in plt.gca().spines.values():\n",
        "    spine.set_visible(False)\n",
        "#plt.legend(loc=2, title='Legend')\n",
        "plt.show()"
      ],
      "metadata": {
        "colab": {
          "base_uri": "https://localhost:8080/",
          "height": 404
        },
        "id": "qh5voIz81jlr",
        "outputId": "e84b86eb-f8a0-4bb5-cf73-673306314bcc"
      },
      "execution_count": 8,
      "outputs": [
        {
          "output_type": "display_data",
          "data": {
            "image/png": "[encoded data removed]",
            "text/plain": [
              "<Figure size 1152x432 with 1 Axes>"
            ]
          },
          "metadata": {
            "needs_background": "light"
          }
        }
      ]
    },
    {
      "metadata": {
        "id": "tOoyQ70H00_s"
      },
      "cell_type": "markdown",
      "source": [
        "## Exercise 6 (Keras and TF)\n",
        "Earlier you learned how to do classification using Fashion MNIST, a data set containing items of clothing. There's another, similar dataset called MNIST which has items of handwriting -- the digits 0 through 9.\n",
        "\n",
        "Write an MNIST classifier that trains to 99% accuracy or above, and does it without a fixed number of epochs -- i.e. you should stop training once you reach that level of accuracy.  Also report the accuracy on the test data.\n",
        "\n",
        "Some notes:\n",
        "1. It should succeed in less than 10 epochs, so it is okay to change epochs to 10, but nothing larger\n",
        "2. When it reaches 99% or greater it should print out the string \"Reached 99% accuracy so cancelling training!\"\n",
        "3. If you add any additional variables, make sure you use the same names as the ones used in the class\n",
        "\n",
        "I've started the code for you below -- how would you finish it? "
      ]
    },
    {
      "cell_type": "code",
      "source": [
        "import numpy as np\n",
        "import tensorflow as tf\n",
        "\n",
        "mnist = tf.keras.datasets.mnist\n",
        "\n",
        "(x_train, y_train),(x_test, y_test) = mnist.load_data()\n",
        "\n",
        "#(trainX, trainY), (testX, testY) = mnist.load_data()\n",
        "\n",
        "print(x_train.shape)\n",
        "#print(trainX.shape)"
      ],
      "metadata": {
        "colab": {
          "base_uri": "https://localhost:8080/"
        },
        "id": "dvdBh7hMA398",
        "outputId": "e911e60a-8ca2-4111-863b-4df14977e89d"
      },
      "execution_count": 9,
      "outputs": [
        {
          "output_type": "stream",
          "name": "stdout",
          "text": [
            "Downloading data from https://storage.googleapis.com/tensorflow/tf-keras-datasets/mnist.npz\n",
            "11493376/11490434 [==============================] - 0s 0us/step\n",
            "11501568/11490434 [==============================] - 0s 0us/step\n",
            "(60000, 28, 28)\n"
          ]
        }
      ]
    },
    {
      "cell_type": "code",
      "source": [
        "# TODO\n",
        "import tensorflow as tf\n",
        "from tensorflow.keras.optimizers import SGD\n",
        "\n",
        "mnist = tf.keras.datasets.mnist\n",
        "(x_train, y_train),(x_test, y_test) = mnist.load_data()\n",
        "# TODO\n",
        "x_train  = x_train / 255.0\n",
        "x_test   = x_test / 255.0\n",
        "\n",
        "model = tf.keras.models.Sequential([tf.keras.layers.Flatten(), \n",
        "                                    tf.keras.layers.Dense(128, activation=tf.nn.relu), \n",
        "                                    tf.keras.layers.Dense(10, activation=tf.nn.softmax)# TODO\n",
        "])\n",
        "\n",
        "opt = SGD(learning_rate=0.01, momentum=0.9)\n",
        "model.compile(optimizer=opt,\n",
        "              loss='sparse_categorical_crossentropy',\n",
        "              metrics=['accuracy'])\n",
        "\n",
        "from keras.callbacks import Callback\n",
        "from keras.callbacks import EarlyStopping\n",
        "class TerminateOnBaseline(Callback): #I found this two functions on Google as \"EarlyStopping\" did not work out.\n",
        "    \"\"\"Callback that terminates training when either acc or val_acc reaches a specified baseline\n",
        "    \"\"\"\n",
        "    def __init__(self, monitor='accuracy', baseline=0.9):\n",
        "        super(TerminateOnBaseline, self).__init__()\n",
        "        self.monitor = monitor\n",
        "        self.baseline = baseline\n",
        "\n",
        "    def on_epoch_end(self, epoch, logs=None):\n",
        "        logs = logs or {}\n",
        "        acc = logs.get(self.monitor)\n",
        "        if acc is not None:\n",
        "            if acc >= self.baseline:\n",
        "                print('Epoch %d: Reached baseline, terminating training' % (epoch))\n",
        "                self.model.stop_training = True\n",
        "\n",
        "callbacks = [TerminateOnBaseline(monitor='accuracy', baseline=0.99)]\n",
        "#callbacks = EarlyStopping(monitor='accuracy', baseline=0.99, patience=200)\n",
        "model.fit(x_train, y_train, epochs=10, validation_data=(x_test, y_test), callbacks=[callbacks], verbose=1) # TODO"
      ],
      "metadata": {
        "colab": {
          "base_uri": "https://localhost:8080/"
        },
        "id": "VMPf5GY91i73",
        "outputId": "97bc6a54-4b70-405a-e9c0-a323eb476c29"
      },
      "execution_count": null,
      "outputs": [
        {
          "output_type": "stream",
          "name": "stdout",
          "text": [
            "Epoch 1/10\n",
            "1875/1875 [==============================] - 7s 3ms/step - loss: 0.3053 - accuracy: 0.9122 - val_loss: 0.1719 - val_accuracy: 0.9497\n",
            "Epoch 2/10\n",
            "1875/1875 [==============================] - 7s 4ms/step - loss: 0.1457 - accuracy: 0.9584 - val_loss: 0.1164 - val_accuracy: 0.9644\n",
            "Epoch 3/10\n",
            "1875/1875 [==============================] - 6s 3ms/step - loss: 0.1057 - accuracy: 0.9695 - val_loss: 0.0964 - val_accuracy: 0.9702\n",
            "Epoch 4/10\n",
            "1875/1875 [==============================] - 6s 3ms/step - loss: 0.0826 - accuracy: 0.9765 - val_loss: 0.0923 - val_accuracy: 0.9731\n",
            "Epoch 5/10\n",
            "1875/1875 [==============================] - 6s 3ms/step - loss: 0.0679 - accuracy: 0.9805 - val_loss: 0.0809 - val_accuracy: 0.9758\n",
            "Epoch 6/10\n",
            " 410/1875 [=====>........................] - ETA: 4s - loss: 0.0565 - accuracy: 0.9838"
          ]
        }
      ]
    },
    {
      "metadata": {
        "id": "9rvXQGAA0ssC",
        "outputId": "eacb23ba-1da7-4b4b-d57f-854e5155c658",
        "colab": {
          "base_uri": "https://localhost:8080/"
        }
      },
      "cell_type": "code",
      "source": [
        "# TODO\n",
        "import tensorflow as tf\n",
        "from tensorflow.keras.optimizers import SGD\n",
        "\n",
        "mnist = tf.keras.datasets.mnist\n",
        "(x_train, y_train),(x_test, y_test) = mnist.load_data()\n",
        "\n",
        "#(trainX, trainY), (testX, testY) = mnist.load_data()\n",
        "\n",
        "# TODO\n",
        "x_train  = x_train / 255.0\n",
        "x_test   = x_test / 255.0\n",
        "##x_train = x_train.reshape((x_train.shape[0], 28, 28, 1))\n",
        "#y_train = y_train.reshape((y_train.shape[0], 28, 28, 1))\n",
        "\n",
        " \n",
        "\n",
        "model = tf.keras.models.Sequential([tf.keras.layers.Conv2D(32,(3,3), activation=tf.nn.relu,kernel_initializer='he_uniform', input_shape=(28, 28, 1)),\n",
        "                                    tf.keras.layers.MaxPooling2D((2, 2)),\n",
        "                                    #tf.keras.layers.Conv2D(64,(3,3), activation=tf.nn.relu,kernel_initializer='he_uniform', input_shape=(28, 28, 1)),\n",
        "                                    #tf.keras.layers.Conv2D(64,(3,3), activation=tf.nn.relu,kernel_initializer='he_uniform', input_shape=(28, 28, 1)),\n",
        "                                    #tf.keras.layers.MaxPooling2D((2, 2)),\n",
        "                                    tf.keras.layers.Flatten(), \n",
        "                                    #tf.keras.layers.Dense(512, activation=tf.nn.relu),\n",
        "                                    tf.keras.layers.Dense(128, activation=tf.nn.relu), \n",
        "                                    tf.keras.layers.Dense(10, activation=tf.nn.softmax)# TODO\n",
        "])\n",
        "\n",
        "opt = SGD(learning_rate=0.01, momentum=0.9)\n",
        "model.compile(optimizer=opt,\n",
        "              loss='sparse_categorical_crossentropy',\n",
        "              metrics=['accuracy'])\n",
        "\n",
        "from keras.callbacks import Callback\n",
        "from keras.callbacks import EarlyStopping\n",
        "class TerminateOnBaseline(Callback): #I found this two functions on Google as \"EarlyStopping\" did not work out.\n",
        "    \"\"\"Callback that terminates training when either acc or val_acc reaches a specified baseline\n",
        "    \"\"\"\n",
        "    def __init__(self, monitor='accuracy', baseline=0.9):\n",
        "        super(TerminateOnBaseline, self).__init__()\n",
        "        self.monitor = monitor\n",
        "        self.baseline = baseline\n",
        "\n",
        "    def on_epoch_end(self, epoch, logs=None):\n",
        "        logs = logs or {}\n",
        "        acc = logs.get(self.monitor)\n",
        "        if acc is not None:\n",
        "            if acc >= self.baseline:\n",
        "                print('Epoch %d: Reached baseline, terminating training' % (epoch))\n",
        "                self.model.stop_training = True\n",
        "\n",
        "callbacks = [TerminateOnBaseline(monitor='accuracy', baseline=0.99)]\n",
        "#callbacks = EarlyStopping(monitor='accuracy', baseline=0.99, patience=200) \n",
        "model.fit(x_train, y_train, epochs=10, batch_size=32, validation_data=(x_test, y_test), callbacks=[callbacks], verbose=1) # TODO"
      ],
      "execution_count": 1,
      "outputs": [
        {
          "output_type": "stream",
          "name": "stdout",
          "text": [
            "Downloading data from https://storage.googleapis.com/tensorflow/tf-keras-datasets/mnist.npz\n",
            "11493376/11490434 [==============================] - 0s 0us/step\n",
            "11501568/11490434 [==============================] - 0s 0us/step\n",
            "Epoch 1/10\n",
            "1875/1875 [==============================] - 30s 16ms/step - loss: 0.1570 - accuracy: 0.9526 - val_loss: 0.0732 - val_accuracy: 0.9769\n",
            "Epoch 2/10\n",
            "1875/1875 [==============================] - 26s 14ms/step - loss: 0.0544 - accuracy: 0.9829 - val_loss: 0.0506 - val_accuracy: 0.9842\n",
            "Epoch 3/10\n",
            "1875/1875 [==============================] - 28s 15ms/step - loss: 0.0352 - accuracy: 0.9893 - val_loss: 0.0415 - val_accuracy: 0.9869\n",
            "Epoch 4/10\n",
            "1874/1875 [============================>.] - ETA: 0s - loss: 0.0235 - accuracy: 0.9929Epoch 3: Reached baseline, terminating training\n",
            "1875/1875 [==============================] - 27s 14ms/step - loss: 0.0235 - accuracy: 0.9929 - val_loss: 0.0508 - val_accuracy: 0.9843\n"
          ]
        },
        {
          "output_type": "execute_result",
          "data": {
            "text/plain": [
              "<keras.callbacks.History at 0x7f3fbdbe6ed0>"
            ]
          },
          "metadata": {},
          "execution_count": 1
        }
      ]
    }
  ]
}